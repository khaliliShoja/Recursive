{
 "cells": [
  {
   "cell_type": "markdown",
   "metadata": {},
   "source": [
    "Implement the “paint fill” function that one might see on many image editing programs. That is, given a screen (represented by a 2 dimensional array of Colors), a point, and a new color, fill in the surrounding area until you hit a border of that color.’"
   ]
  },
  {
   "cell_type": "code",
   "execution_count": 2,
   "metadata": {
    "collapsed": false
   },
   "outputs": [
    {
     "name": "stdout",
     "output_type": "stream",
     "text": [
      "[[1, 1, 1], [1, 2, 2], [1, 2, 3]]\n",
      "[[1, 1, 1], [1, 2, 2], [1, 2, 1]]\n"
     ]
    }
   ],
   "source": [
    "N=[[1,1,1],[1,2,2],[1,2,3]]\n",
    "l=[2,2]\n",
    "k=1\n",
    "a=N[l[0]][l[1]]\n",
    "# a is the initial color\n",
    "# l is point\n",
    "#k is color\n",
    "def paintFill(N,l,k,a):\n",
    "  x=len(N[0])-1\n",
    "  y=len(N)-1\n",
    "  \n",
    "  if (a!=N[l[0]][l[1]]):\n",
    "    return\n",
    "  else:\n",
    "    N[l[0]][l[1]]=k\n",
    "  \n",
    "  if(l[0]<x):\n",
    "    #print(l[0])\n",
    "    l[0]=l[0]+1\n",
    "    paintFill(N,l,k,a)\n",
    "  if(l[0]>0):\n",
    "    l[0]=l[0]-1\n",
    "    paintFill(N,l,k,a)\n",
    "  if(l[1]<y):\n",
    "    l[1]=l[1]+1\n",
    "    paintFill(N,l,k,a)\n",
    "  if(l[1]>0):\n",
    "    l[1]=l[1]-1\n",
    "    paintFill(N,l,k,a)\n",
    "    \n",
    "  \n",
    "print(N)\n",
    "paintFill(N,l,k,a)\n",
    "print(N)"
   ]
  },
  {
   "cell_type": "code",
   "execution_count": null,
   "metadata": {
    "collapsed": true
   },
   "outputs": [],
   "source": []
  }
 ],
 "metadata": {
  "kernelspec": {
   "display_name": "Python 3",
   "language": "python",
   "name": "python3"
  },
  "language_info": {
   "codemirror_mode": {
    "name": "ipython",
    "version": 3
   },
   "file_extension": ".py",
   "mimetype": "text/x-python",
   "name": "python",
   "nbconvert_exporter": "python",
   "pygments_lexer": "ipython3",
   "version": "3.6.0"
  }
 },
 "nbformat": 4,
 "nbformat_minor": 2
}
