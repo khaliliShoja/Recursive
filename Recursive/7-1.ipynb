{
 "cells": [
  {
   "cell_type": "markdown",
   "metadata": {},
   "source": [
    "Given an infinite number of quarters (25 cents), dimes (10 cents), nickels (5 cents) and pennies (1 cent), write code to calculate the number of ways of representing n cents"
   ]
  },
  {
   "cell_type": "code",
   "execution_count": 13,
   "metadata": {
    "collapsed": false
   },
   "outputs": [
    {
     "name": "stdout",
     "output_type": "stream",
     "text": [
      "[1, 1, 1, 0]\n",
      "[6, 0, 1, 0]\n",
      "[1, 3, 0, 0]\n",
      "[6, 2, 0, 0]\n",
      "[11, 1, 0, 0]\n",
      "[16, 0, 0, 0]\n",
      "[[1, 1, 1, 0], [6, 0, 1, 0], [1, 3, 0, 0], [6, 2, 0, 0], [11, 1, 0, 0], [16, 0, 0, 0]]\n"
     ]
    }
   ],
   "source": [
    "l=[0,0,0,0]\n",
    "def calway(n,l, coin,r):\n",
    "  if(n == 0):\n",
    "    print(l)\n",
    "    r.append(l)\n",
    "    #return l\n",
    "  if(n >= 25 and coin >= 25):\n",
    "    l25=l[:]\n",
    "    #a=n//25\n",
    "    l25[-1]=l25[-1]+1\n",
    "    b=n- 25\n",
    "    calway(b, l25, 25,r)\n",
    "    #q.append(s)\n",
    "  if(n >= 10 and coin >=10):\n",
    "    l10=l[:]\n",
    "    #a=n//10\n",
    "    l10[-2]=l10[-2]+1\n",
    "    b=n -10\n",
    "    calway(b, l10, 10,r)\n",
    "    #q.append(s)\n",
    "  if(n >=5 and coin >=5):\n",
    "    l5=l[:]\n",
    "    #a=n//5\n",
    "    l5[1]=l5[1]+1\n",
    "    b=n - 5\n",
    "    calway(b, l5, 5,r)\n",
    "    #q.append(s)\n",
    "  if( n>=1 and coin >=1 ):\n",
    "    l1=l[:]\n",
    "    l1[0]=l1[0]+1\n",
    "    b=n-1\n",
    "    calway(b,l1, 1,r)\n",
    "    #q.append(s)\n",
    "    #print(\"aa\",s)\n",
    "  \n",
    "\n",
    "  \n",
    "  #print(\"ddddd\",s)\n",
    "  return r\n",
    "\n",
    "a=calway(16,l, 25,[])\n",
    "#print(\"salam\")\n",
    "print(a)"
   ]
  },
  {
   "cell_type": "code",
   "execution_count": null,
   "metadata": {
    "collapsed": true
   },
   "outputs": [],
   "source": []
  },
  {
   "cell_type": "code",
   "execution_count": null,
   "metadata": {
    "collapsed": true
   },
   "outputs": [],
   "source": []
  }
 ],
 "metadata": {
  "kernelspec": {
   "display_name": "Python 3",
   "language": "python",
   "name": "python3"
  },
  "language_info": {
   "codemirror_mode": {
    "name": "ipython",
    "version": 3
   },
   "file_extension": ".py",
   "mimetype": "text/x-python",
   "name": "python",
   "nbconvert_exporter": "python",
   "pygments_lexer": "ipython3",
   "version": "3.6.0"
  }
 },
 "nbformat": 4,
 "nbformat_minor": 2
}
