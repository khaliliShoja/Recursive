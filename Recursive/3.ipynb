{
 "cells": [
  {
   "cell_type": "markdown",
   "metadata": {},
   "source": [
    "Write a method that returns all subsets of a set."
   ]
  },
  {
   "cell_type": "code",
   "execution_count": null,
   "metadata": {
    "collapsed": true
   },
   "outputs": [],
   "source": [
    "l=[1,2,3]\n",
    "def allSet(l):\n",
    "  if(len(l)==1):\n",
    "    return l\n",
    "  \n",
    "  a=len(l)\n",
    "  a=a//2\n",
    "  left=l[0:a]\n",
    "  right=l[a:]\n",
    "  a1=allSet(left)\n",
    "  a2=allSet(right)\n",
    "  k=[]\n",
    "  k.extend(a1)\n",
    "  k.extend(a2)\n",
    "  for i in a1:\n",
    "    for j in a2:\n",
    "      temp=int(str(i)+str(j))\n",
    "      k.append(temp)\n",
    "  return k\n",
    "      \n",
    "    \n",
    "    \n",
    "kk=allSet(l)\n",
    "kk.append('None')\n",
    "print(kk)"
   ]
  }
 ],
 "metadata": {
  "kernelspec": {
   "display_name": "Python 3",
   "language": "python",
   "name": "python3"
  },
  "language_info": {
   "codemirror_mode": {
    "name": "ipython",
    "version": 3
   },
   "file_extension": ".py",
   "mimetype": "text/x-python",
   "name": "python",
   "nbconvert_exporter": "python",
   "pygments_lexer": "ipython3",
   "version": "3.6.0"
  }
 },
 "nbformat": 4,
 "nbformat_minor": 2
}
