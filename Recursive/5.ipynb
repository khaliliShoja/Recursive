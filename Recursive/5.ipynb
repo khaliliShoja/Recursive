{
 "cells": [
  {
   "cell_type": "markdown",
   "metadata": {},
   "source": [
    "Implement an algorithm to print all valid (e.g., properly opened and closed) combinations of n-pairs of parentheses."
   ]
  },
  {
   "cell_type": "code",
   "execution_count": 3,
   "metadata": {
    "collapsed": false
   },
   "outputs": [
    {
     "name": "stdout",
     "output_type": "stream",
     "text": [
      "aaabbb\n",
      "aababb\n",
      "aabbab\n",
      "abaabb\n",
      "ababab\n"
     ]
    }
   ],
   "source": [
    "l=[3,0,0]\n",
    "c=\"\"\n",
    "\n",
    "def param(l,c):\n",
    "  if(l[1]==l[0] and l[2]==l[0]):\n",
    "    print(c)\n",
    "    #print(\"salam\")\n",
    "    return\n",
    "  \n",
    "  elif(l[1] >= l[2]):\n",
    "    if(l[1]==l[0]):\n",
    "      c1=c[:]\n",
    "      a1=l[:]\n",
    "      a1[2]=a1[2]+1\n",
    "      c1=c1+'b'\n",
    "      param(a1,c1)\n",
    "    else:\n",
    "      c2=c[:]\n",
    "      a2=l[:]\n",
    "      a2[1]=a2[1]+1\n",
    "      c2=c2+('a')\n",
    "      param(a2,c2)\n",
    "      a3=l[:]\n",
    "      a3[2]=a3[2]+1\n",
    "      c3=c[:]\n",
    "      c3=c3+('b')\n",
    "      param(a3,c3)\n",
    "\n",
    "\n",
    "param(l,c)"
   ]
  },
  {
   "cell_type": "code",
   "execution_count": null,
   "metadata": {
    "collapsed": true
   },
   "outputs": [],
   "source": []
  }
 ],
 "metadata": {
  "kernelspec": {
   "display_name": "Python 3",
   "language": "python",
   "name": "python3"
  },
  "language_info": {
   "codemirror_mode": {
    "name": "ipython",
    "version": 3
   },
   "file_extension": ".py",
   "mimetype": "text/x-python",
   "name": "python",
   "nbconvert_exporter": "python",
   "pygments_lexer": "ipython3",
   "version": "3.6.0"
  }
 },
 "nbformat": 4,
 "nbformat_minor": 2
}
