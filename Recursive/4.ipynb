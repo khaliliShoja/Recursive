{
 "cells": [
  {
   "cell_type": "markdown",
   "metadata": {},
   "source": [
    "Write a method to compute all permutations of a string"
   ]
  },
  {
   "cell_type": "code",
   "execution_count": 1,
   "metadata": {
    "collapsed": false
   },
   "outputs": [
    {
     "name": "stdout",
     "output_type": "stream",
     "text": [
      "['abc', 'acb', 'bac', 'bca', 'cab', 'cba']\n"
     ]
    }
   ],
   "source": [
    "str1='abc'\n",
    "\n",
    "\n",
    "def permSt(str1):\n",
    "  if(len(str1)==1):\n",
    "    return [str1] # No difference if you return str1\n",
    "  \n",
    "  \n",
    "  l=[]\n",
    "  for i in range(0, len(str1)):\n",
    "    \n",
    "    if(i==len(str1)-1):\n",
    "      k1=str1[:i]\n",
    "    else:\n",
    "      k1=str1[:i]+str1[i+1:]\n",
    "    l1=permSt(k1) #this is a list\n",
    "    l2=str1[i]\n",
    "    #l=[]\n",
    "    for j in l1:\n",
    "      l.append(l2+j)\n",
    "  \n",
    "  return l\n",
    "  \n",
    "print(permSt(str1))"
   ]
  },
  {
   "cell_type": "code",
   "execution_count": null,
   "metadata": {
    "collapsed": true
   },
   "outputs": [],
   "source": []
  }
 ],
 "metadata": {
  "kernelspec": {
   "display_name": "Python 3",
   "language": "python",
   "name": "python3"
  },
  "language_info": {
   "codemirror_mode": {
    "name": "ipython",
    "version": 3
   },
   "file_extension": ".py",
   "mimetype": "text/x-python",
   "name": "python",
   "nbconvert_exporter": "python",
   "pygments_lexer": "ipython3",
   "version": "3.6.0"
  }
 },
 "nbformat": 4,
 "nbformat_minor": 2
}
