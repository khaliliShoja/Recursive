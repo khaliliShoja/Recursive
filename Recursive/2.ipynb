{
 "cells": [
  {
   "cell_type": "markdown",
   "metadata": {},
   "source": [
    "Question:\n",
    "Imagine a robot sitting in the upper left hand corner of a NxN grid. The robot can only move in two directions: right and down. How many possible paths are there for the robot to reach to the lower right hand corner of the grid? Please show all the routes.\n",
    "\n",
    "\n",
    "In my solution, \"D\" stands for down and \"R\" stands for right."
   ]
  },
  {
   "cell_type": "code",
   "execution_count": 6,
   "metadata": {
    "collapsed": false
   },
   "outputs": [
    {
     "name": "stdout",
     "output_type": "stream",
     "text": [
      "['R', 'R', 'D', 'D']\n",
      "['R', 'D', 'R', 'D']\n",
      "['R', 'D', 'D', 'R']\n",
      "['D', 'R', 'R', 'D']\n",
      "['D', 'R', 'D', 'R']\n",
      "['D', 'D', 'R', 'R']\n"
     ]
    }
   ],
   "source": [
    "n=3\n",
    "l=[]\n",
    "def pathfinder(l, n, i, j):\n",
    "  \n",
    "  if(len(l)== 2*n-2):\n",
    "    print(l)\n",
    "    \n",
    "  if(i < n-1):\n",
    "    a=l[:]\n",
    "    a.append('R')\n",
    "    pathfinder(a, n , i+1, j)\n",
    "  if(j < n-1):\n",
    "    a=l[:]\n",
    "    a.append('D')\n",
    "    pathfinder(a,n,i,j+1)\n",
    "  \n",
    "\n",
    "\n",
    "\n",
    "pathfinder(l,n,0,0)\n"
   ]
  },
  {
   "cell_type": "code",
   "execution_count": 9,
   "metadata": {
    "collapsed": false
   },
   "outputs": [
    {
     "name": "stdout",
     "output_type": "stream",
     "text": [
      "['R', 'D', 'D', 'R']\n",
      "Number of paths is:  2\n"
     ]
    }
   ],
   "source": [
    "n=2\n",
    "l=[]\n",
    "def pathfinder(l, n, i, j):\n",
    "  if(len(l)== 2*n-2):\n",
    "    return l\n",
    "  if(i < n-1):\n",
    "    a=l[:]\n",
    "    a.append('R')\n",
    "    l=pathfinder(a, n , i+1, j)\n",
    "  if(j < n-1):\n",
    "    a=l[:]\n",
    "    a.append('D')\n",
    "    l=pathfinder(a,n,i,j+1)\n",
    "  return l\n",
    "\n",
    "\n",
    "l=pathfinder(l,n,0,0)\n",
    "print(l)\n",
    "print(\"Number of paths is: \", int(len(l)/n))"
   ]
  },
  {
   "cell_type": "code",
   "execution_count": null,
   "metadata": {
    "collapsed": true
   },
   "outputs": [],
   "source": []
  }
 ],
 "metadata": {
  "kernelspec": {
   "display_name": "Python 3",
   "language": "python",
   "name": "python3"
  },
  "language_info": {
   "codemirror_mode": {
    "name": "ipython",
    "version": 3
   },
   "file_extension": ".py",
   "mimetype": "text/x-python",
   "name": "python",
   "nbconvert_exporter": "python",
   "pygments_lexer": "ipython3",
   "version": "3.6.0"
  }
 },
 "nbformat": 4,
 "nbformat_minor": 2
}
